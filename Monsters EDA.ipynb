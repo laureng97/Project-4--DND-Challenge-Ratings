{
 "cells": [
  {
   "cell_type": "code",
   "execution_count": 1,
   "metadata": {},
   "outputs": [],
   "source": [
    "import numpy as np\n",
    "import pandas as pd\n",
    "import matplotlib.pyplot as plt\n",
    "import seaborn as sns"
   ]
  },
  {
   "cell_type": "code",
   "execution_count": 11,
   "metadata": {},
   "outputs": [
    {
     "data": {
      "text/html": [
       "<div>\n",
       "<style scoped>\n",
       "    .dataframe tbody tr th:only-of-type {\n",
       "        vertical-align: middle;\n",
       "    }\n",
       "\n",
       "    .dataframe tbody tr th {\n",
       "        vertical-align: top;\n",
       "    }\n",
       "\n",
       "    .dataframe thead th {\n",
       "        text-align: right;\n",
       "    }\n",
       "</style>\n",
       "<table border=\"1\" class=\"dataframe\">\n",
       "  <thead>\n",
       "    <tr style=\"text-align: right;\">\n",
       "      <th></th>\n",
       "      <th>Unnamed: 0</th>\n",
       "      <th>_id</th>\n",
       "      <th>index</th>\n",
       "      <th>name</th>\n",
       "      <th>size</th>\n",
       "      <th>type</th>\n",
       "      <th>subtype</th>\n",
       "      <th>alignment</th>\n",
       "      <th>armor_class</th>\n",
       "      <th>hit_points</th>\n",
       "      <th>hit_dice</th>\n",
       "      <th>speed</th>\n",
       "      <th>strength</th>\n",
       "      <th>dexterity</th>\n",
       "      <th>constitution</th>\n",
       "      <th>intelligence</th>\n",
       "      <th>wisdom</th>\n",
       "      <th>charisma</th>\n",
       "      <th>proficiencies</th>\n",
       "      <th>damage_vulnerabilities</th>\n",
       "      <th>damage_resistances</th>\n",
       "      <th>damage_immunities</th>\n",
       "      <th>condition_immunities</th>\n",
       "      <th>senses</th>\n",
       "      <th>languages</th>\n",
       "      <th>challenge_rating</th>\n",
       "      <th>special_abilities</th>\n",
       "      <th>actions</th>\n",
       "      <th>legendary_actions</th>\n",
       "      <th>url</th>\n",
       "      <th>reactions</th>\n",
       "      <th>other_speeds</th>\n",
       "    </tr>\n",
       "  </thead>\n",
       "  <tbody>\n",
       "    <tr>\n",
       "      <th>0</th>\n",
       "      <td>0</td>\n",
       "      <td>5f2329ad0b1bb138c59411ee</td>\n",
       "      <td>aboleth</td>\n",
       "      <td>Aboleth</td>\n",
       "      <td>Large</td>\n",
       "      <td>aberration</td>\n",
       "      <td>NaN</td>\n",
       "      <td>lawful evil</td>\n",
       "      <td>17</td>\n",
       "      <td>135</td>\n",
       "      <td>18d10</td>\n",
       "      <td>{'walk': '10 ft.', 'swim': '40 ft.'}</td>\n",
       "      <td>21</td>\n",
       "      <td>9</td>\n",
       "      <td>15</td>\n",
       "      <td>18</td>\n",
       "      <td>15</td>\n",
       "      <td>18</td>\n",
       "      <td>[{'name': 'Saving Throw: CON', 'url': '/api/pr...</td>\n",
       "      <td>[]</td>\n",
       "      <td>[]</td>\n",
       "      <td>[]</td>\n",
       "      <td>[]</td>\n",
       "      <td>{'darkvision': '120 ft.', 'passive_perception'...</td>\n",
       "      <td>Deep Speech, telepathy 120 ft.</td>\n",
       "      <td>10.00</td>\n",
       "      <td>[{'name': 'Amphibious', 'desc': 'The aboleth c...</td>\n",
       "      <td>[{'name': 'Multiattack', 'desc': 'The aboleth ...</td>\n",
       "      <td>[{'name': 'Detect', 'desc': 'The aboleth makes...</td>\n",
       "      <td>/api/monsters/aboleth</td>\n",
       "      <td>NaN</td>\n",
       "      <td>NaN</td>\n",
       "    </tr>\n",
       "    <tr>\n",
       "      <th>1</th>\n",
       "      <td>1</td>\n",
       "      <td>5f2329ad0b1bb138c59411ef</td>\n",
       "      <td>acolyte</td>\n",
       "      <td>Acolyte</td>\n",
       "      <td>Medium</td>\n",
       "      <td>humanoid</td>\n",
       "      <td>any race</td>\n",
       "      <td>any alignment</td>\n",
       "      <td>10</td>\n",
       "      <td>9</td>\n",
       "      <td>2d8</td>\n",
       "      <td>{'walk': '30 ft.'}</td>\n",
       "      <td>10</td>\n",
       "      <td>10</td>\n",
       "      <td>10</td>\n",
       "      <td>10</td>\n",
       "      <td>14</td>\n",
       "      <td>11</td>\n",
       "      <td>[{'name': 'Skill: Medicine', 'url': '/api/prof...</td>\n",
       "      <td>[]</td>\n",
       "      <td>[]</td>\n",
       "      <td>[]</td>\n",
       "      <td>[]</td>\n",
       "      <td>{'passive_perception': 12}</td>\n",
       "      <td>any one language (usually Common)</td>\n",
       "      <td>0.25</td>\n",
       "      <td>[{'name': 'Spellcasting', 'desc': 'The acolyte...</td>\n",
       "      <td>[{'name': 'Club', 'desc': 'Melee Weapon Attack...</td>\n",
       "      <td>NaN</td>\n",
       "      <td>/api/monsters/acolyte</td>\n",
       "      <td>NaN</td>\n",
       "      <td>NaN</td>\n",
       "    </tr>\n",
       "    <tr>\n",
       "      <th>2</th>\n",
       "      <td>2</td>\n",
       "      <td>5f2329ad0b1bb138c59411f1</td>\n",
       "      <td>adult-black-dragon</td>\n",
       "      <td>Adult Black Dragon</td>\n",
       "      <td>Huge</td>\n",
       "      <td>dragon</td>\n",
       "      <td>NaN</td>\n",
       "      <td>chaotic evil</td>\n",
       "      <td>19</td>\n",
       "      <td>195</td>\n",
       "      <td>17d12</td>\n",
       "      <td>{'walk': '40 ft.', 'fly': '80 ft.', 'swim': '4...</td>\n",
       "      <td>23</td>\n",
       "      <td>14</td>\n",
       "      <td>21</td>\n",
       "      <td>14</td>\n",
       "      <td>13</td>\n",
       "      <td>17</td>\n",
       "      <td>[{'name': 'Saving Throw: DEX', 'url': '/api/pr...</td>\n",
       "      <td>[]</td>\n",
       "      <td>[]</td>\n",
       "      <td>['acid']</td>\n",
       "      <td>[]</td>\n",
       "      <td>{'blindsight': '60 ft.', 'darkvision': '120 ft...</td>\n",
       "      <td>Common, Draconic</td>\n",
       "      <td>14.00</td>\n",
       "      <td>[{'name': 'Amphibious', 'desc': 'The dragon ca...</td>\n",
       "      <td>[{'name': 'Multiattack', 'desc': 'The dragon c...</td>\n",
       "      <td>[{'name': 'Detect', 'desc': 'The dragon makes ...</td>\n",
       "      <td>/api/monsters/adult-black-dragon</td>\n",
       "      <td>NaN</td>\n",
       "      <td>NaN</td>\n",
       "    </tr>\n",
       "    <tr>\n",
       "      <th>3</th>\n",
       "      <td>3</td>\n",
       "      <td>5f2329ad0b1bb138c59411f0</td>\n",
       "      <td>adult-blue-dragon</td>\n",
       "      <td>Adult Blue Dragon</td>\n",
       "      <td>Huge</td>\n",
       "      <td>dragon</td>\n",
       "      <td>NaN</td>\n",
       "      <td>lawful evil</td>\n",
       "      <td>19</td>\n",
       "      <td>225</td>\n",
       "      <td>18d12</td>\n",
       "      <td>{'walk': '40 ft.', 'burrow': '30 ft.', 'fly': ...</td>\n",
       "      <td>25</td>\n",
       "      <td>10</td>\n",
       "      <td>23</td>\n",
       "      <td>16</td>\n",
       "      <td>15</td>\n",
       "      <td>19</td>\n",
       "      <td>[{'name': 'Saving Throw: DEX', 'url': '/api/pr...</td>\n",
       "      <td>[]</td>\n",
       "      <td>[]</td>\n",
       "      <td>['lightning']</td>\n",
       "      <td>[]</td>\n",
       "      <td>{'blindsight': '60 ft.', 'darkvision': '120 ft...</td>\n",
       "      <td>Common, Draconic</td>\n",
       "      <td>16.00</td>\n",
       "      <td>[{'name': 'Legendary Resistance', 'desc': 'If ...</td>\n",
       "      <td>[{'name': 'Multiattack', 'desc': 'The dragon c...</td>\n",
       "      <td>[{'name': 'Detect', 'desc': 'The dragon makes ...</td>\n",
       "      <td>/api/monsters/adult-blue-dragon</td>\n",
       "      <td>NaN</td>\n",
       "      <td>NaN</td>\n",
       "    </tr>\n",
       "    <tr>\n",
       "      <th>4</th>\n",
       "      <td>4</td>\n",
       "      <td>5f2329ad0b1bb138c59411f2</td>\n",
       "      <td>adult-brass-dragon</td>\n",
       "      <td>Adult Brass Dragon</td>\n",
       "      <td>Huge</td>\n",
       "      <td>dragon</td>\n",
       "      <td>NaN</td>\n",
       "      <td>chaotic good</td>\n",
       "      <td>18</td>\n",
       "      <td>172</td>\n",
       "      <td>15d12</td>\n",
       "      <td>{'walk': '40 ft.', 'burrow': '40 ft.', 'fly': ...</td>\n",
       "      <td>23</td>\n",
       "      <td>10</td>\n",
       "      <td>21</td>\n",
       "      <td>14</td>\n",
       "      <td>13</td>\n",
       "      <td>17</td>\n",
       "      <td>[{'name': 'Saving Throw: DEX', 'url': '/api/pr...</td>\n",
       "      <td>[]</td>\n",
       "      <td>[]</td>\n",
       "      <td>['fire']</td>\n",
       "      <td>[]</td>\n",
       "      <td>{'blindsight': '60 ft.', 'darkvision': '120 ft...</td>\n",
       "      <td>Common, Draconic</td>\n",
       "      <td>13.00</td>\n",
       "      <td>[{'name': 'Legendary Resistance', 'desc': 'If ...</td>\n",
       "      <td>[{'name': 'Multiattack', 'desc': 'The dragon c...</td>\n",
       "      <td>NaN</td>\n",
       "      <td>/api/monsters/adult-brass-dragon</td>\n",
       "      <td>NaN</td>\n",
       "      <td>NaN</td>\n",
       "    </tr>\n",
       "  </tbody>\n",
       "</table>\n",
       "</div>"
      ],
      "text/plain": [
       "   Unnamed: 0                       _id               index  \\\n",
       "0           0  5f2329ad0b1bb138c59411ee             aboleth   \n",
       "1           1  5f2329ad0b1bb138c59411ef             acolyte   \n",
       "2           2  5f2329ad0b1bb138c59411f1  adult-black-dragon   \n",
       "3           3  5f2329ad0b1bb138c59411f0   adult-blue-dragon   \n",
       "4           4  5f2329ad0b1bb138c59411f2  adult-brass-dragon   \n",
       "\n",
       "                 name    size        type   subtype      alignment  \\\n",
       "0             Aboleth   Large  aberration       NaN    lawful evil   \n",
       "1             Acolyte  Medium    humanoid  any race  any alignment   \n",
       "2  Adult Black Dragon    Huge      dragon       NaN   chaotic evil   \n",
       "3   Adult Blue Dragon    Huge      dragon       NaN    lawful evil   \n",
       "4  Adult Brass Dragon    Huge      dragon       NaN   chaotic good   \n",
       "\n",
       "   armor_class  hit_points hit_dice  \\\n",
       "0           17         135    18d10   \n",
       "1           10           9      2d8   \n",
       "2           19         195    17d12   \n",
       "3           19         225    18d12   \n",
       "4           18         172    15d12   \n",
       "\n",
       "                                               speed  strength  dexterity  \\\n",
       "0               {'walk': '10 ft.', 'swim': '40 ft.'}        21          9   \n",
       "1                                 {'walk': '30 ft.'}        10         10   \n",
       "2  {'walk': '40 ft.', 'fly': '80 ft.', 'swim': '4...        23         14   \n",
       "3  {'walk': '40 ft.', 'burrow': '30 ft.', 'fly': ...        25         10   \n",
       "4  {'walk': '40 ft.', 'burrow': '40 ft.', 'fly': ...        23         10   \n",
       "\n",
       "   constitution  intelligence  wisdom  charisma  \\\n",
       "0            15            18      15        18   \n",
       "1            10            10      14        11   \n",
       "2            21            14      13        17   \n",
       "3            23            16      15        19   \n",
       "4            21            14      13        17   \n",
       "\n",
       "                                       proficiencies damage_vulnerabilities  \\\n",
       "0  [{'name': 'Saving Throw: CON', 'url': '/api/pr...                     []   \n",
       "1  [{'name': 'Skill: Medicine', 'url': '/api/prof...                     []   \n",
       "2  [{'name': 'Saving Throw: DEX', 'url': '/api/pr...                     []   \n",
       "3  [{'name': 'Saving Throw: DEX', 'url': '/api/pr...                     []   \n",
       "4  [{'name': 'Saving Throw: DEX', 'url': '/api/pr...                     []   \n",
       "\n",
       "  damage_resistances damage_immunities condition_immunities  \\\n",
       "0                 []                []                   []   \n",
       "1                 []                []                   []   \n",
       "2                 []          ['acid']                   []   \n",
       "3                 []     ['lightning']                   []   \n",
       "4                 []          ['fire']                   []   \n",
       "\n",
       "                                              senses  \\\n",
       "0  {'darkvision': '120 ft.', 'passive_perception'...   \n",
       "1                         {'passive_perception': 12}   \n",
       "2  {'blindsight': '60 ft.', 'darkvision': '120 ft...   \n",
       "3  {'blindsight': '60 ft.', 'darkvision': '120 ft...   \n",
       "4  {'blindsight': '60 ft.', 'darkvision': '120 ft...   \n",
       "\n",
       "                           languages  challenge_rating  \\\n",
       "0     Deep Speech, telepathy 120 ft.             10.00   \n",
       "1  any one language (usually Common)              0.25   \n",
       "2                   Common, Draconic             14.00   \n",
       "3                   Common, Draconic             16.00   \n",
       "4                   Common, Draconic             13.00   \n",
       "\n",
       "                                   special_abilities  \\\n",
       "0  [{'name': 'Amphibious', 'desc': 'The aboleth c...   \n",
       "1  [{'name': 'Spellcasting', 'desc': 'The acolyte...   \n",
       "2  [{'name': 'Amphibious', 'desc': 'The dragon ca...   \n",
       "3  [{'name': 'Legendary Resistance', 'desc': 'If ...   \n",
       "4  [{'name': 'Legendary Resistance', 'desc': 'If ...   \n",
       "\n",
       "                                             actions  \\\n",
       "0  [{'name': 'Multiattack', 'desc': 'The aboleth ...   \n",
       "1  [{'name': 'Club', 'desc': 'Melee Weapon Attack...   \n",
       "2  [{'name': 'Multiattack', 'desc': 'The dragon c...   \n",
       "3  [{'name': 'Multiattack', 'desc': 'The dragon c...   \n",
       "4  [{'name': 'Multiattack', 'desc': 'The dragon c...   \n",
       "\n",
       "                                   legendary_actions  \\\n",
       "0  [{'name': 'Detect', 'desc': 'The aboleth makes...   \n",
       "1                                                NaN   \n",
       "2  [{'name': 'Detect', 'desc': 'The dragon makes ...   \n",
       "3  [{'name': 'Detect', 'desc': 'The dragon makes ...   \n",
       "4                                                NaN   \n",
       "\n",
       "                                url reactions other_speeds  \n",
       "0             /api/monsters/aboleth       NaN          NaN  \n",
       "1             /api/monsters/acolyte       NaN          NaN  \n",
       "2  /api/monsters/adult-black-dragon       NaN          NaN  \n",
       "3   /api/monsters/adult-blue-dragon       NaN          NaN  \n",
       "4  /api/monsters/adult-brass-dragon       NaN          NaN  "
      ]
     },
     "execution_count": 11,
     "metadata": {},
     "output_type": "execute_result"
    }
   ],
   "source": [
    "df = pd.read_csv('./Source Files/monsters.csv')\n",
    "pd.set_option('display.max_columns', None)\n",
    "df.head()"
   ]
  },
  {
   "cell_type": "code",
   "execution_count": 6,
   "metadata": {},
   "outputs": [
    {
     "data": {
      "text/plain": [
       "(322, 32)"
      ]
     },
     "execution_count": 6,
     "metadata": {},
     "output_type": "execute_result"
    }
   ],
   "source": [
    "df.shape"
   ]
  },
  {
   "cell_type": "code",
   "execution_count": 10,
   "metadata": {},
   "outputs": [
    {
     "data": {
      "text/plain": [
       "Index(['Unnamed: 0', '_id', 'index', 'name', 'size', 'type', 'subtype',\n",
       "       'alignment', 'armor_class', 'hit_points', 'hit_dice', 'speed',\n",
       "       'strength', 'dexterity', 'constitution', 'intelligence', 'wisdom',\n",
       "       'charisma', 'proficiencies', 'damage_vulnerabilities',\n",
       "       'damage_resistances', 'damage_immunities', 'condition_immunities',\n",
       "       'senses', 'languages', 'challenge_rating', 'special_abilities',\n",
       "       'actions', 'legendary_actions', 'url', 'reactions', 'other_speeds'],\n",
       "      dtype='object')"
      ]
     },
     "execution_count": 10,
     "metadata": {},
     "output_type": "execute_result"
    }
   ],
   "source": [
    "df.columns"
   ]
  },
  {
   "cell_type": "code",
   "execution_count": 15,
   "metadata": {},
   "outputs": [
    {
     "name": "stdout",
     "output_type": "stream",
     "text": [
      "<class 'pandas.core.frame.DataFrame'>\n",
      "RangeIndex: 322 entries, 0 to 321\n",
      "Data columns (total 32 columns):\n",
      " #   Column                  Non-Null Count  Dtype  \n",
      "---  ------                  --------------  -----  \n",
      " 0   Unnamed: 0              322 non-null    int64  \n",
      " 1   _id                     322 non-null    object \n",
      " 2   index                   322 non-null    object \n",
      " 3   name                    322 non-null    object \n",
      " 4   size                    322 non-null    object \n",
      " 5   type                    322 non-null    object \n",
      " 6   subtype                 64 non-null     object \n",
      " 7   alignment               322 non-null    object \n",
      " 8   armor_class             322 non-null    int64  \n",
      " 9   hit_points              322 non-null    int64  \n",
      " 10  hit_dice                322 non-null    object \n",
      " 11  speed                   322 non-null    object \n",
      " 12  strength                322 non-null    int64  \n",
      " 13  dexterity               322 non-null    int64  \n",
      " 14  constitution            322 non-null    int64  \n",
      " 15  intelligence            322 non-null    int64  \n",
      " 16  wisdom                  322 non-null    int64  \n",
      " 17  charisma                322 non-null    int64  \n",
      " 18  proficiencies           322 non-null    object \n",
      " 19  damage_vulnerabilities  322 non-null    object \n",
      " 20  damage_resistances      322 non-null    object \n",
      " 21  damage_immunities       322 non-null    object \n",
      " 22  condition_immunities    322 non-null    object \n",
      " 23  senses                  322 non-null    object \n",
      " 24  languages               193 non-null    object \n",
      " 25  challenge_rating        322 non-null    float64\n",
      " 26  special_abilities       266 non-null    object \n",
      " 27  actions                 320 non-null    object \n",
      " 28  legendary_actions       29 non-null     object \n",
      " 29  url                     322 non-null    object \n",
      " 30  reactions               11 non-null     object \n",
      " 31  other_speeds            4 non-null      object \n",
      "dtypes: float64(1), int64(9), object(22)\n",
      "memory usage: 80.6+ KB\n"
     ]
    }
   ],
   "source": [
    "df.info()"
   ]
  },
  {
   "cell_type": "code",
   "execution_count": 20,
   "metadata": {},
   "outputs": [
    {
     "data": {
      "text/plain": [
       "Text(0.5, 1.0, 'CR (Challenge Rating) Overall Counts')"
      ]
     },
     "execution_count": 20,
     "metadata": {},
     "output_type": "execute_result"
    },
    {
     "data": {
      "image/png": "[encoded data removed]",
      "text/plain": [
       "<Figure size 1000x600 with 1 Axes>"
      ]
     },
     "metadata": {},
     "output_type": "display_data"
    }
   ],
   "source": [
    "data = df['challenge_rating']\n",
    "data = data.sort_values()\n",
    "data = data.astype(str)\n",
    "data = data.str.replace('0.5', '1/2')\n",
    "data = data.str.replace('0.25', '1/4')\n",
    "data = data.str.replace('0.125', '1/8')\n",
    "data = data.str.replace('.0', '')\n",
    "\n",
    "plt.figure(figsize=(10,6))\n",
    "data.value_counts()[data.unique()].plot(kind='bar')\n",
    "plt.title(\"CR (Challenge Rating) Overall Counts\")"
   ]
  },
  {
   "cell_type": "code",
   "execution_count": 24,
   "metadata": {},
   "outputs": [
    {
     "data": {
      "text/plain": [
       "Text(0.5, 1.0, 'Monster size distribution')"
      ]
     },
     "execution_count": 24,
     "metadata": {},
     "output_type": "execute_result"
    },
    {
     "data": {
      "image/png": "[encoded data removed]",
      "text/plain": [
       "<Figure size 640x480 with 1 Axes>"
      ]
     },
     "metadata": {},
     "output_type": "display_data"
    }
   ],
   "source": [
    "df.groupby('size').size().plot(kind='barh', color=sns.palettes.mpl_palette('Dark2'))\n",
    "plt.gca().spines[['top', 'right',]].set_visible(False)\n",
    "plt.title(\"Monster size distribution\")"
   ]
  },
  {
   "cell_type": "code",
   "execution_count": 25,
   "metadata": {},
   "outputs": [
    {
     "data": {
      "text/plain": [
       "Text(0.5, 1.0, 'Average HP per type')"
      ]
     },
     "execution_count": 25,
     "metadata": {},
     "output_type": "execute_result"
    },
    {
     "data": {
      "image/png": "[encoded data removed]",
      "text/plain": [
       "<Figure size 640x480 with 1 Axes>"
      ]
     },
     "metadata": {},
     "output_type": "display_data"
    }
   ],
   "source": [
    "hp = df['hit_points']\n",
    "monster_type = df['type']\n",
    "type_hp = pd.DataFrame({'HP': hp, 'Type': monster_type})\n",
    "mean_type_hp = type_hp.groupby(['Type']).mean()\n",
    "\n",
    "mean_type_hp.plot(kind='barh', color='limegreen')\n",
    "plt.title('Average HP per type')"
   ]
  }
 ],
 "metadata": {
  "kernelspec": {
   "display_name": "dev",
   "language": "python",
   "name": "python3"
  },
  "language_info": {
   "codemirror_mode": {
    "name": "ipython",
    "version": 3
   },
   "file_extension": ".py",
   "mimetype": "text/x-python",
   "name": "python",
   "nbconvert_exporter": "python",
   "pygments_lexer": "ipython3",
   "version": "3.9.19"
  }
 },
 "nbformat": 4,
 "nbformat_minor": 2
}
