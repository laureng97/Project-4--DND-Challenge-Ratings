{
 "cells": [
  {
   "cell_type": "markdown",
   "id": "abcc6b39",
   "metadata": {
    "id": "gDpzCyqr-dFg",
    "papermill": {
     "duration": 0.006922,
     "end_time": "2024-04-18T00:08:17.817965",
     "exception": false,
     "start_time": "2024-04-18T00:08:17.811043",
     "status": "completed"
    },
    "tags": []
   },
   "source": [
    "# **Dungeons and Dragons 5e Monster Analysis and Encounter Builder**\n",
    "\n",
    "Created by Kaggle User Vinícius de Moraes\n",
    "- Link: https://www.kaggle.com/code/vinciusdemoraes/dnd-5e-monsters-analysis-and-encounter-builder/notebook"
   ]
  },
  {
   "cell_type": "markdown",
   "id": "812eadd6",
   "metadata": {
    "id": "0vLz7PFr-RxO",
    "papermill": {
     "duration": 0.006116,
     "end_time": "2024-04-18T00:08:17.830908",
     "exception": false,
     "start_time": "2024-04-18T00:08:17.824792",
     "status": "completed"
    },
    "tags": []
   },
   "source": [
    "## **1. Data collection and loading**\n"
   ]
  },
  {
   "cell_type": "markdown",
   "id": "99e1aa6c",
   "metadata": {
    "id": "E5agf55h_m5O",
    "papermill": {
     "duration": 0.006145,
     "end_time": "2024-04-18T00:08:17.843581",
     "exception": false,
     "start_time": "2024-04-18T00:08:17.837436",
     "status": "completed"
    },
    "tags": []
   },
   "source": [
    "### **Importing libraries**"
   ]
  },
  {
   "cell_type": "code",
   "execution_count": 1,
   "id": "30804c8a",
   "metadata": {
    "execution": {
     "iopub.execute_input": "2024-04-18T00:08:17.859151Z",
     "iopub.status.busy": "2024-04-18T00:08:17.858169Z",
     "iopub.status.idle": "2024-04-18T00:08:20.661777Z",
     "shell.execute_reply": "2024-04-18T00:08:20.660474Z"
    },
    "id": "ILyKCFTB9UbC",
    "papermill": {
     "duration": 2.814701,
     "end_time": "2024-04-18T00:08:20.664820",
     "exception": false,
     "start_time": "2024-04-18T00:08:17.850119",
     "status": "completed"
    },
    "tags": []
   },
   "outputs": [],
   "source": [
    "import numpy as np\n",
    "import pandas as pd\n",
    "import matplotlib.pyplot as plt\n",
    "import seaborn as sns\n",
    "from sys import exit"
   ]
  },
  {
   "cell_type": "markdown",
   "id": "67fd0940",
   "metadata": {
    "id": "crvD85Pj_u-4",
    "papermill": {
     "duration": 0.006374,
     "end_time": "2024-04-18T00:08:20.677829",
     "exception": false,
     "start_time": "2024-04-18T00:08:20.671455",
     "status": "completed"
    },
    "tags": []
   },
   "source": [
    "### **Loading the dataset**"
   ]
  },
  {
   "cell_type": "code",
   "execution_count": 2,
   "id": "4daf84c7",
   "metadata": {
    "execution": {
     "iopub.execute_input": "2024-04-18T00:08:20.693211Z",
     "iopub.status.busy": "2024-04-18T00:08:20.692536Z",
     "iopub.status.idle": "2024-04-18T00:08:20.716228Z",
     "shell.execute_reply": "2024-04-18T00:08:20.715037Z"
    },
    "id": "6RjixiyA9aMz",
    "papermill": {
     "duration": 0.034531,
     "end_time": "2024-04-18T00:08:20.719066",
     "exception": false,
     "start_time": "2024-04-18T00:08:20.684535",
     "status": "completed"
    },
    "tags": []
   },
   "outputs": [],
   "source": [
    "df = pd.read_csv('/kaggle/input/dungeons-and-dragons-5e-monsters/Dd5e_monsters.csv')"
   ]
  },
  {
   "cell_type": "code",
   "execution_count": 3,
   "id": "e05e65e8",
   "metadata": {
    "execution": {
     "iopub.execute_input": "2024-04-18T00:08:20.734289Z",
     "iopub.status.busy": "2024-04-18T00:08:20.733841Z",
     "iopub.status.idle": "2024-04-18T00:08:20.755469Z",
     "shell.execute_reply": "2024-04-18T00:08:20.754191Z"
    },
    "id": "gqkYtBk6-C6J",
    "outputId": "8108f932-3ef3-48bc-a539-67ea7aff3506",
    "papermill": {
     "duration": 0.033018,
     "end_time": "2024-04-18T00:08:20.758825",
     "exception": false,
     "start_time": "2024-04-18T00:08:20.725807",
     "status": "completed"
    },
    "tags": []
   },
   "outputs": [
    {
     "data": {
      "text/html": [
       "<div>\n",
       "<style scoped>\n",
       "    .dataframe tbody tr th:only-of-type {\n",
       "        vertical-align: middle;\n",
       "    }\n",
       "\n",
       "    .dataframe tbody tr th {\n",
       "        vertical-align: top;\n",
       "    }\n",
       "\n",
       "    .dataframe thead th {\n",
       "        text-align: right;\n",
       "    }\n",
       "</style>\n",
       "<table border=\"1\" class=\"dataframe\">\n",
       "  <thead>\n",
       "    <tr style=\"text-align: right;\">\n",
       "      <th></th>\n",
       "      <th>Name</th>\n",
       "      <th>Size</th>\n",
       "      <th>Race + alignment</th>\n",
       "      <th>HP</th>\n",
       "      <th>Armor</th>\n",
       "      <th>Speed</th>\n",
       "      <th>Challenge rating  (XP)</th>\n",
       "    </tr>\n",
       "  </thead>\n",
       "  <tbody>\n",
       "    <tr>\n",
       "      <th>0</th>\n",
       "      <td>Aboleth</td>\n",
       "      <td>Large</td>\n",
       "      <td>aberration, Lawful Evil</td>\n",
       "      <td>135 (18d10+36)</td>\n",
       "      <td>17 (Natural Armor)</td>\n",
       "      <td>10 ft., swim 40 ft.</td>\n",
       "      <td>10 (5,900 XP)</td>\n",
       "    </tr>\n",
       "    <tr>\n",
       "      <th>1</th>\n",
       "      <td>Acolyte</td>\n",
       "      <td>Medium</td>\n",
       "      <td>humanoid (any race), Any Alignment</td>\n",
       "      <td>9 (2d8)</td>\n",
       "      <td>10</td>\n",
       "      <td>30 ft.</td>\n",
       "      <td>1/4 (50 XP)</td>\n",
       "    </tr>\n",
       "    <tr>\n",
       "      <th>2</th>\n",
       "      <td>Adult Black Dragon</td>\n",
       "      <td>Huge</td>\n",
       "      <td>dragon, Chaotic Evil</td>\n",
       "      <td>195 (17d12+85)</td>\n",
       "      <td>19 (Natural Armor)</td>\n",
       "      <td>40 ft., fly 80 ft., swim 40 ft.</td>\n",
       "      <td>14 (11,500 XP)</td>\n",
       "    </tr>\n",
       "    <tr>\n",
       "      <th>3</th>\n",
       "      <td>Adult Blue Dragon</td>\n",
       "      <td>Huge</td>\n",
       "      <td>dragon, Lawful Evil</td>\n",
       "      <td>225 (18d12+108)</td>\n",
       "      <td>19</td>\n",
       "      <td>40 ft., burrow 30 ft., fly 80 ft.</td>\n",
       "      <td>16 (15,000 XP)</td>\n",
       "    </tr>\n",
       "    <tr>\n",
       "      <th>4</th>\n",
       "      <td>Adult Brass Dragon</td>\n",
       "      <td>Huge</td>\n",
       "      <td>dragon, Chaotic Good</td>\n",
       "      <td>172 (15d12+75)</td>\n",
       "      <td>18 (Natural Armor)</td>\n",
       "      <td>40 ft., burrow 40 ft., fly 80 ft.</td>\n",
       "      <td>13 (10,000 XP)</td>\n",
       "    </tr>\n",
       "  </tbody>\n",
       "</table>\n",
       "</div>"
      ],
      "text/plain": [
       "                 Name    Size                    Race + alignment  \\\n",
       "0             Aboleth   Large             aberration, Lawful Evil   \n",
       "1             Acolyte  Medium  humanoid (any race), Any Alignment   \n",
       "2  Adult Black Dragon    Huge                dragon, Chaotic Evil   \n",
       "3   Adult Blue Dragon    Huge                 dragon, Lawful Evil   \n",
       "4  Adult Brass Dragon    Huge                dragon, Chaotic Good   \n",
       "\n",
       "                HP               Armor                              Speed  \\\n",
       "0   135 (18d10+36)  17 (Natural Armor)                10 ft., swim 40 ft.   \n",
       "1          9 (2d8)                  10                             30 ft.   \n",
       "2   195 (17d12+85)  19 (Natural Armor)    40 ft., fly 80 ft., swim 40 ft.   \n",
       "3  225 (18d12+108)                  19  40 ft., burrow 30 ft., fly 80 ft.   \n",
       "4   172 (15d12+75)  18 (Natural Armor)  40 ft., burrow 40 ft., fly 80 ft.   \n",
       "\n",
       "  Challenge rating  (XP)  \n",
       "0          10 (5,900 XP)  \n",
       "1            1/4 (50 XP)  \n",
       "2         14 (11,500 XP)  \n",
       "3         16 (15,000 XP)  \n",
       "4         13 (10,000 XP)  "
      ]
     },
     "execution_count": 3,
     "metadata": {},
     "output_type": "execute_result"
    }
   ],
   "source": [
    "df.head()"
   ]
  },
  {
   "cell_type": "code",
   "execution_count": 4,
   "id": "bf827495",
   "metadata": {
    "execution": {
     "iopub.execute_input": "2024-04-18T00:08:20.776057Z",
     "iopub.status.busy": "2024-04-18T00:08:20.775634Z",
     "iopub.status.idle": "2024-04-18T00:08:20.785073Z",
     "shell.execute_reply": "2024-04-18T00:08:20.783746Z"
    },
    "id": "NDlXy-Fj-o-2",
    "outputId": "af7bc015-9259-4ece-de06-34e0361daba8",
    "papermill": {
     "duration": 0.021643,
     "end_time": "2024-04-18T00:08:20.788162",
     "exception": false,
     "start_time": "2024-04-18T00:08:20.766519",
     "status": "completed"
    },
    "tags": []
   },
   "outputs": [
    {
     "data": {
      "text/plain": [
       "Index(['Name', 'Size', 'Race + alignment', 'HP', 'Armor', 'Speed',\n",
       "       'Challenge rating  (XP)'],\n",
       "      dtype='object')"
      ]
     },
     "execution_count": 4,
     "metadata": {},
     "output_type": "execute_result"
    }
   ],
   "source": [
    "df.columns"
   ]
  },
  {
   "cell_type": "code",
   "execution_count": 5,
   "id": "84fd1b5b",
   "metadata": {
    "execution": {
     "iopub.execute_input": "2024-04-18T00:08:20.805327Z",
     "iopub.status.busy": "2024-04-18T00:08:20.804894Z",
     "iopub.status.idle": "2024-04-18T00:08:20.813104Z",
     "shell.execute_reply": "2024-04-18T00:08:20.811848Z"
    },
    "id": "c3xwqcx9-r6r",
    "outputId": "3e821338-4970-4fe0-91af-d5c0f18ce028",
    "papermill": {
     "duration": 0.020316,
     "end_time": "2024-04-18T00:08:20.815814",
     "exception": false,
     "start_time": "2024-04-18T00:08:20.795498",
     "status": "completed"
    },
    "tags": []
   },
   "outputs": [
    {
     "data": {
      "text/plain": [
       "(324, 7)"
      ]
     },
     "execution_count": 5,
     "metadata": {},
     "output_type": "execute_result"
    }
   ],
   "source": [
    "df.shape"
   ]
  },
  {
   "cell_type": "markdown",
   "id": "5a1afe25",
   "metadata": {
    "id": "6yCLuFt9_7tz",
    "papermill": {
     "duration": 0.007115,
     "end_time": "2024-04-18T00:08:20.830717",
     "exception": false,
     "start_time": "2024-04-18T00:08:20.823602",
     "status": "completed"
    },
    "tags": []
   },
   "source": [
    "## **2. Exploratory Data Analysis (EDA)**"
   ]
  },
  {
   "cell_type": "code",
   "execution_count": 6,
   "id": "50e68491",
   "metadata": {
    "cellView": "form",
    "execution": {
     "iopub.execute_input": "2024-04-18T00:08:20.847482Z",
     "iopub.status.busy": "2024-04-18T00:08:20.847072Z",
     "iopub.status.idle": "2024-04-18T00:08:21.593780Z",
     "shell.execute_reply": "2024-04-18T00:08:21.592261Z"
    },
    "id": "1x7vxI5PAIO_",
    "outputId": "52fe9160-8516-451e-c276-ab2264f2c6db",
    "papermill": {
     "duration": 0.75839,
     "end_time": "2024-04-18T00:08:21.596614",
     "exception": false,
     "start_time": "2024-04-18T00:08:20.838224",
     "status": "completed"
    },
    "tags": []
   },
   "outputs": [
    {
     "data": {
      "text/plain": [
       "Text(0.5, 1.0, 'Frequency of monsters by challenge rating')"
      ]
     },
     "execution_count": 6,
     "metadata": {},
     "output_type": "execute_result"
    },
    {
     "data": {
      "image/png": "[encoded data removed]",
      "text/plain": [
       "<Figure size 1000x600 with 1 Axes>"
      ]
     },
     "metadata": {},
     "output_type": "display_data"
    }
   ],
   "source": [
    "# @title **Challenge rating distribution**\n",
    "\n",
    "data = df['Challenge rating  (XP)'].str.split('(').str[0]\n",
    "data = data.str.replace('1/2', '0.5')\n",
    "data = data.str.replace('1/4', '0.25')\n",
    "data = data.str.replace('1/8', '0.125')\n",
    "data = data.astype(float)\n",
    "data = data.sort_values()\n",
    "data = data.astype(str)\n",
    "data = data.str.replace('0.5', '1/2')\n",
    "data = data.str.replace('0.25', '1/4')\n",
    "data = data.str.replace('0.125', '1/8')\n",
    "data = data.str.replace('.0', '')\n",
    "\n",
    "plt.figure(figsize=(10,6))\n",
    "data.value_counts()[data.unique()].plot(kind='bar')\n",
    "plt.title(\"Frequency of monsters by challenge rating\")"
   ]
  },
  {
   "cell_type": "code",
   "execution_count": 7,
   "id": "8dbb2253",
   "metadata": {
    "cellView": "form",
    "execution": {
     "iopub.execute_input": "2024-04-18T00:08:21.616508Z",
     "iopub.status.busy": "2024-04-18T00:08:21.616012Z",
     "iopub.status.idle": "2024-04-18T00:08:21.941479Z",
     "shell.execute_reply": "2024-04-18T00:08:21.940274Z"
    },
    "id": "_dPVTOTmKX41",
    "outputId": "b017b888-67a2-4890-b979-74b62cf93d6e",
    "papermill": {
     "duration": 0.338264,
     "end_time": "2024-04-18T00:08:21.944369",
     "exception": false,
     "start_time": "2024-04-18T00:08:21.606105",
     "status": "completed"
    },
    "tags": []
   },
   "outputs": [
    {
     "data": {
      "text/plain": [
       "Text(0.5, 1.0, 'Monster size distribution')"
      ]
     },
     "execution_count": 7,
     "metadata": {},
     "output_type": "execute_result"
    },
    {
     "data": {
      "image/png": "[encoded data removed]",
      "text/plain": [
       "<Figure size 640x480 with 1 Axes>"
      ]
     },
     "metadata": {},
     "output_type": "display_data"
    }
   ],
   "source": [
    "# @title **Size distribution**\n",
    "\n",
    "df.groupby('Size').size().plot(kind='barh', color=sns.palettes.mpl_palette('Dark2'))\n",
    "plt.gca().spines[['top', 'right',]].set_visible(False)\n",
    "plt.title(\"Monster size distribution\")"
   ]
  },
  {
   "cell_type": "code",
   "execution_count": 8,
   "id": "4db386eb",
   "metadata": {
    "cellView": "form",
    "execution": {
     "iopub.execute_input": "2024-04-18T00:08:21.967878Z",
     "iopub.status.busy": "2024-04-18T00:08:21.967331Z",
     "iopub.status.idle": "2024-04-18T00:08:22.203508Z",
     "shell.execute_reply": "2024-04-18T00:08:22.202349Z"
    },
    "id": "81sZcsdZ70TS",
    "outputId": "142ed7dd-8a83-4635-cf4b-adcb86293215",
    "papermill": {
     "duration": 0.253205,
     "end_time": "2024-04-18T00:08:22.208510",
     "exception": false,
     "start_time": "2024-04-18T00:08:21.955305",
     "status": "completed"
    },
    "tags": []
   },
   "outputs": [
    {
     "data": {
      "text/plain": [
       "Text(0.5, 1.0, 'Alignment distribution')"
      ]
     },
     "execution_count": 8,
     "metadata": {},
     "output_type": "execute_result"
    },
    {
     "data": {
      "image/png": "[encoded data removed]",
      "text/plain": [
       "<Figure size 640x480 with 1 Axes>"
      ]
     },
     "metadata": {},
     "output_type": "display_data"
    }
   ],
   "source": [
    "# @title **Alignment distribution**\n",
    "data = df['Race + alignment'].apply(lambda x: x.split(',')[1].split(' (')[0])\n",
    "data = data.value_counts()\n",
    "data = data[data > 6]\n",
    "plt.pie(data, labels=data.index, colors=sns.palettes.mpl_palette('Set1', 8))\n",
    "plt.title(\"Alignment distribution\")"
   ]
  },
  {
   "cell_type": "code",
   "execution_count": 9,
   "id": "46ef3cb0",
   "metadata": {
    "cellView": "form",
    "execution": {
     "iopub.execute_input": "2024-04-18T00:08:22.248857Z",
     "iopub.status.busy": "2024-04-18T00:08:22.247913Z",
     "iopub.status.idle": "2024-04-18T00:08:22.758376Z",
     "shell.execute_reply": "2024-04-18T00:08:22.756973Z"
    },
    "id": "RT1lWKSFJclq",
    "outputId": "720a8ddf-79c9-406e-8a57-0bd47b34c60c",
    "papermill": {
     "duration": 0.528588,
     "end_time": "2024-04-18T00:08:22.761372",
     "exception": false,
     "start_time": "2024-04-18T00:08:22.232784",
     "status": "completed"
    },
    "tags": []
   },
   "outputs": [
    {
     "data": {
      "text/plain": [
       "Text(0.5, 1.0, 'Average HP per race')"
      ]
     },
     "execution_count": 9,
     "metadata": {},
     "output_type": "execute_result"
    },
    {
     "data": {
      "image/png": "[encoded data removed]",
      "text/plain": [
       "<Figure size 640x480 with 1 Axes>"
      ]
     },
     "metadata": {},
     "output_type": "display_data"
    }
   ],
   "source": [
    "# @title **HP per monster type**\n",
    "\n",
    "hp = df['HP'].apply(lambda x: int(x.split(' (')[0]))\n",
    "monster_type = df['Race + alignment'].apply(lambda x: x.split(',')[0].split(' (')[0])\n",
    "race_hp = pd.DataFrame({'hp': hp, 'race': monster_type})\n",
    "mean_race_hp = race_hp.groupby(['race']).mean()\n",
    "\n",
    "mean_race_hp.plot(kind='barh', color='limegreen')\n",
    "plt.title('Average HP per race')"
   ]
  },
  {
   "cell_type": "code",
   "execution_count": 10,
   "id": "9fd9f02b",
   "metadata": {
    "cellView": "form",
    "execution": {
     "iopub.execute_input": "2024-04-18T00:08:22.786880Z",
     "iopub.status.busy": "2024-04-18T00:08:22.785898Z",
     "iopub.status.idle": "2024-04-18T00:08:23.364227Z",
     "shell.execute_reply": "2024-04-18T00:08:23.362948Z"
    },
    "id": "DMMEocLX_ynL",
    "outputId": "2043a633-f5ca-4c8b-9c93-7b80fd9edf83",
    "papermill": {
     "duration": 0.595012,
     "end_time": "2024-04-18T00:08:23.367167",
     "exception": false,
     "start_time": "2024-04-18T00:08:22.772155",
     "status": "completed"
    },
    "tags": []
   },
   "outputs": [
    {
     "data": {
      "text/plain": [
       "Text(0.5, 1.0, 'Average AC per race')"
      ]
     },
     "execution_count": 10,
     "metadata": {},
     "output_type": "execute_result"
    },
    {
     "data": {
      "image/png": "[encoded data removed]",
      "text/plain": [
       "<Figure size 640x480 with 1 Axes>"
      ]
     },
     "metadata": {},
     "output_type": "display_data"
    }
   ],
   "source": [
    "# @title **AC per monster type**\n",
    "\n",
    "ac = df['Armor'].apply(lambda x: int(x.split(' (')[0]))\n",
    "monster_type = df['Race + alignment'].apply(lambda x: x.split(',')[0].split(' (')[0])\n",
    "race_ac = pd.DataFrame({'ac': ac, 'race': monster_type})\n",
    "mean_race_ac = race_ac.groupby(['race']).mean()\n",
    "\n",
    "mean_race_ac.plot(kind='barh', color='firebrick')\n",
    "plt.title('Average AC per race')"
   ]
  },
  {
   "cell_type": "markdown",
   "id": "8a238dba",
   "metadata": {
    "id": "mubxtuQYNfNO",
    "papermill": {
     "duration": 0.012774,
     "end_time": "2024-04-18T00:08:23.392776",
     "exception": false,
     "start_time": "2024-04-18T00:08:23.380002",
     "status": "completed"
    },
    "tags": []
   },
   "source": [
    "## **3. Feature Engineering**"
   ]
  },
  {
   "cell_type": "code",
   "execution_count": 11,
   "id": "37bece60",
   "metadata": {
    "cellView": "form",
    "execution": {
     "iopub.execute_input": "2024-04-18T00:08:23.417805Z",
     "iopub.status.busy": "2024-04-18T00:08:23.417416Z",
     "iopub.status.idle": "2024-04-18T00:08:23.462543Z",
     "shell.execute_reply": "2024-04-18T00:08:23.461299Z"
    },
    "id": "Ao_2-erKNnpm",
    "outputId": "3dfac97f-6c32-40f5-ee56-229d6d5a879d",
    "papermill": {
     "duration": 0.061451,
     "end_time": "2024-04-18T00:08:23.465825",
     "exception": false,
     "start_time": "2024-04-18T00:08:23.404374",
     "status": "completed"
    },
    "tags": []
   },
   "outputs": [
    {
     "data": {
      "text/html": [
       "<div>\n",
       "<style scoped>\n",
       "    .dataframe tbody tr th:only-of-type {\n",
       "        vertical-align: middle;\n",
       "    }\n",
       "\n",
       "    .dataframe tbody tr th {\n",
       "        vertical-align: top;\n",
       "    }\n",
       "\n",
       "    .dataframe thead th {\n",
       "        text-align: right;\n",
       "    }\n",
       "</style>\n",
       "<table border=\"1\" class=\"dataframe\">\n",
       "  <thead>\n",
       "    <tr style=\"text-align: right;\">\n",
       "      <th></th>\n",
       "      <th>Name</th>\n",
       "      <th>Size</th>\n",
       "      <th>HP</th>\n",
       "      <th>Armor</th>\n",
       "      <th>Speed</th>\n",
       "      <th>Race</th>\n",
       "      <th>Alignment</th>\n",
       "      <th>Challenge Rating</th>\n",
       "      <th>XP</th>\n",
       "    </tr>\n",
       "  </thead>\n",
       "  <tbody>\n",
       "    <tr>\n",
       "      <th>0</th>\n",
       "      <td>Aboleth</td>\n",
       "      <td>Large</td>\n",
       "      <td>135</td>\n",
       "      <td>17</td>\n",
       "      <td>10 ft., swim 40 ft.</td>\n",
       "      <td>aberration</td>\n",
       "      <td>Lawful Evil</td>\n",
       "      <td>10.00</td>\n",
       "      <td>5900</td>\n",
       "    </tr>\n",
       "    <tr>\n",
       "      <th>1</th>\n",
       "      <td>Acolyte</td>\n",
       "      <td>Medium</td>\n",
       "      <td>9</td>\n",
       "      <td>10</td>\n",
       "      <td>30 ft.</td>\n",
       "      <td>humanoid</td>\n",
       "      <td>Any Alignment</td>\n",
       "      <td>0.25</td>\n",
       "      <td>50</td>\n",
       "    </tr>\n",
       "    <tr>\n",
       "      <th>2</th>\n",
       "      <td>Adult Black Dragon</td>\n",
       "      <td>Huge</td>\n",
       "      <td>195</td>\n",
       "      <td>19</td>\n",
       "      <td>40 ft., fly 80 ft., swim 40 ft.</td>\n",
       "      <td>dragon</td>\n",
       "      <td>Chaotic Evil</td>\n",
       "      <td>14.00</td>\n",
       "      <td>11500</td>\n",
       "    </tr>\n",
       "    <tr>\n",
       "      <th>3</th>\n",
       "      <td>Adult Blue Dragon</td>\n",
       "      <td>Huge</td>\n",
       "      <td>225</td>\n",
       "      <td>19</td>\n",
       "      <td>40 ft., burrow 30 ft., fly 80 ft.</td>\n",
       "      <td>dragon</td>\n",
       "      <td>Lawful Evil</td>\n",
       "      <td>16.00</td>\n",
       "      <td>15000</td>\n",
       "    </tr>\n",
       "    <tr>\n",
       "      <th>4</th>\n",
       "      <td>Adult Brass Dragon</td>\n",
       "      <td>Huge</td>\n",
       "      <td>172</td>\n",
       "      <td>18</td>\n",
       "      <td>40 ft., burrow 40 ft., fly 80 ft.</td>\n",
       "      <td>dragon</td>\n",
       "      <td>Chaotic Good</td>\n",
       "      <td>13.00</td>\n",
       "      <td>10000</td>\n",
       "    </tr>\n",
       "    <tr>\n",
       "      <th>...</th>\n",
       "      <td>...</td>\n",
       "      <td>...</td>\n",
       "      <td>...</td>\n",
       "      <td>...</td>\n",
       "      <td>...</td>\n",
       "      <td>...</td>\n",
       "      <td>...</td>\n",
       "      <td>...</td>\n",
       "      <td>...</td>\n",
       "    </tr>\n",
       "    <tr>\n",
       "      <th>319</th>\n",
       "      <td>Young Green Dragon</td>\n",
       "      <td>Large</td>\n",
       "      <td>136</td>\n",
       "      <td>18</td>\n",
       "      <td>40 ft., fly 80 ft., swim 40 ft.</td>\n",
       "      <td>dragon</td>\n",
       "      <td>Lawful Evil</td>\n",
       "      <td>8.00</td>\n",
       "      <td>3900</td>\n",
       "    </tr>\n",
       "    <tr>\n",
       "      <th>320</th>\n",
       "      <td>Young Red Dragon</td>\n",
       "      <td>Large</td>\n",
       "      <td>178</td>\n",
       "      <td>18</td>\n",
       "      <td>40 ft., climb 40 ft., fly 80 ft.</td>\n",
       "      <td>dragon</td>\n",
       "      <td>Chaotic Evil</td>\n",
       "      <td>10.00</td>\n",
       "      <td>5900</td>\n",
       "    </tr>\n",
       "    <tr>\n",
       "      <th>321</th>\n",
       "      <td>Young Silver Dragon</td>\n",
       "      <td>Large</td>\n",
       "      <td>168</td>\n",
       "      <td>18</td>\n",
       "      <td>40 ft., fly 80 ft.</td>\n",
       "      <td>dragon</td>\n",
       "      <td>Lawful Good</td>\n",
       "      <td>9.00</td>\n",
       "      <td>5000</td>\n",
       "    </tr>\n",
       "    <tr>\n",
       "      <th>322</th>\n",
       "      <td>Young White Dragon</td>\n",
       "      <td>Large</td>\n",
       "      <td>133</td>\n",
       "      <td>17</td>\n",
       "      <td>40 ft., burrow 20 ft., fly 80 ft., swim 40 ft.</td>\n",
       "      <td>dragon</td>\n",
       "      <td>Chaotic Evil</td>\n",
       "      <td>6.00</td>\n",
       "      <td>2300</td>\n",
       "    </tr>\n",
       "    <tr>\n",
       "      <th>323</th>\n",
       "      <td>Zombie</td>\n",
       "      <td>Medium</td>\n",
       "      <td>22</td>\n",
       "      <td>8</td>\n",
       "      <td>20 ft.</td>\n",
       "      <td>undead</td>\n",
       "      <td>Neutral Evil</td>\n",
       "      <td>0.25</td>\n",
       "      <td>50</td>\n",
       "    </tr>\n",
       "  </tbody>\n",
       "</table>\n",
       "<p>324 rows × 9 columns</p>\n",
       "</div>"
      ],
      "text/plain": [
       "                    Name    Size   HP  Armor  \\\n",
       "0                Aboleth   Large  135     17   \n",
       "1                Acolyte  Medium    9     10   \n",
       "2     Adult Black Dragon    Huge  195     19   \n",
       "3      Adult Blue Dragon    Huge  225     19   \n",
       "4     Adult Brass Dragon    Huge  172     18   \n",
       "..                   ...     ...  ...    ...   \n",
       "319   Young Green Dragon   Large  136     18   \n",
       "320     Young Red Dragon   Large  178     18   \n",
       "321  Young Silver Dragon   Large  168     18   \n",
       "322   Young White Dragon   Large  133     17   \n",
       "323               Zombie  Medium   22      8   \n",
       "\n",
       "                                              Speed        Race  \\\n",
       "0                               10 ft., swim 40 ft.  aberration   \n",
       "1                                            30 ft.    humanoid   \n",
       "2                   40 ft., fly 80 ft., swim 40 ft.      dragon   \n",
       "3                 40 ft., burrow 30 ft., fly 80 ft.      dragon   \n",
       "4                 40 ft., burrow 40 ft., fly 80 ft.      dragon   \n",
       "..                                              ...         ...   \n",
       "319                 40 ft., fly 80 ft., swim 40 ft.      dragon   \n",
       "320                40 ft., climb 40 ft., fly 80 ft.      dragon   \n",
       "321                              40 ft., fly 80 ft.      dragon   \n",
       "322  40 ft., burrow 20 ft., fly 80 ft., swim 40 ft.      dragon   \n",
       "323                                          20 ft.      undead   \n",
       "\n",
       "          Alignment  Challenge Rating     XP  \n",
       "0       Lawful Evil             10.00   5900  \n",
       "1     Any Alignment              0.25     50  \n",
       "2      Chaotic Evil             14.00  11500  \n",
       "3       Lawful Evil             16.00  15000  \n",
       "4      Chaotic Good             13.00  10000  \n",
       "..              ...               ...    ...  \n",
       "319     Lawful Evil              8.00   3900  \n",
       "320    Chaotic Evil             10.00   5900  \n",
       "321     Lawful Good              9.00   5000  \n",
       "322    Chaotic Evil              6.00   2300  \n",
       "323    Neutral Evil              0.25     50  \n",
       "\n",
       "[324 rows x 9 columns]"
      ]
     },
     "execution_count": 11,
     "metadata": {},
     "output_type": "execute_result"
    }
   ],
   "source": [
    "# @title **Fixing the columns**\n",
    "df['Race'] = df['Race + alignment'].apply(lambda x: x.split(',')[0].split(' (')[0])\n",
    "df['Alignment'] = df['Race + alignment'].apply(lambda x: x.split(',')[1].split(' (')[0])\n",
    "df['HP'] = df['HP'].apply(lambda x: int(x.split(' (')[0]))\n",
    "df['Armor'] = df['Armor'].apply(lambda x: int(x.split(' (')[0]))\n",
    "df['Challenge Rating'] = df['Challenge rating  (XP)'].apply(lambda x: float(x.split(' (')[0]) if '/' not in x else float(eval(x.split(' (')[0])))\n",
    "df['XP'] = df['Challenge rating  (XP)'].apply(lambda x: int(x.split('(')[1].split(' XP')[0].replace(',','')))\n",
    "df = df.drop(['Race + alignment', 'Challenge rating  (XP)'],axis=1)\n",
    "df"
   ]
  },
  {
   "cell_type": "code",
   "execution_count": 12,
   "id": "199828e5",
   "metadata": {
    "cellView": "form",
    "execution": {
     "iopub.execute_input": "2024-04-18T00:08:23.494762Z",
     "iopub.status.busy": "2024-04-18T00:08:23.494251Z",
     "iopub.status.idle": "2024-04-18T00:08:23.507553Z",
     "shell.execute_reply": "2024-04-18T00:08:23.505571Z"
    },
    "id": "5OWrXiI3K3Ha",
    "outputId": "b8703931-a1b4-4e89-aae2-6aad822d4f9b",
    "papermill": {
     "duration": 0.030807,
     "end_time": "2024-04-18T00:08:23.510748",
     "exception": false,
     "start_time": "2024-04-18T00:08:23.479941",
     "status": "completed"
    },
    "tags": []
   },
   "outputs": [
    {
     "data": {
      "text/plain": [
       "Name                0\n",
       "Size                0\n",
       "HP                  0\n",
       "Armor               0\n",
       "Speed               0\n",
       "Race                0\n",
       "Alignment           0\n",
       "Challenge Rating    0\n",
       "XP                  0\n",
       "dtype: int64"
      ]
     },
     "execution_count": 12,
     "metadata": {},
     "output_type": "execute_result"
    }
   ],
   "source": [
    "# @title **Checking for missing values**\n",
    "\n",
    "df.isna().sum()"
   ]
  },
  {
   "cell_type": "code",
   "execution_count": 13,
   "id": "615ad12a",
   "metadata": {
    "cellView": "form",
    "execution": {
     "iopub.execute_input": "2024-04-18T00:08:23.542226Z",
     "iopub.status.busy": "2024-04-18T00:08:23.541627Z",
     "iopub.status.idle": "2024-04-18T00:08:23.572918Z",
     "shell.execute_reply": "2024-04-18T00:08:23.571507Z"
    },
    "id": "gU7sGYlrRjZf",
    "outputId": "ff87dfb6-d14e-4270-fd8b-a53e8d538744",
    "papermill": {
     "duration": 0.048885,
     "end_time": "2024-04-18T00:08:23.576306",
     "exception": false,
     "start_time": "2024-04-18T00:08:23.527421",
     "status": "completed"
    },
    "tags": []
   },
   "outputs": [
    {
     "data": {
      "text/html": [
       "<div>\n",
       "<style scoped>\n",
       "    .dataframe tbody tr th:only-of-type {\n",
       "        vertical-align: middle;\n",
       "    }\n",
       "\n",
       "    .dataframe tbody tr th {\n",
       "        vertical-align: top;\n",
       "    }\n",
       "\n",
       "    .dataframe thead th {\n",
       "        text-align: right;\n",
       "    }\n",
       "</style>\n",
       "<table border=\"1\" class=\"dataframe\">\n",
       "  <thead>\n",
       "    <tr style=\"text-align: right;\">\n",
       "      <th></th>\n",
       "      <th>Easy</th>\n",
       "      <th>Medium</th>\n",
       "      <th>Hard</th>\n",
       "      <th>Deadly</th>\n",
       "    </tr>\n",
       "    <tr>\n",
       "      <th>Character Level</th>\n",
       "      <th></th>\n",
       "      <th></th>\n",
       "      <th></th>\n",
       "      <th></th>\n",
       "    </tr>\n",
       "  </thead>\n",
       "  <tbody>\n",
       "    <tr>\n",
       "      <th>1</th>\n",
       "      <td>25</td>\n",
       "      <td>50</td>\n",
       "      <td>75</td>\n",
       "      <td>100</td>\n",
       "    </tr>\n",
       "    <tr>\n",
       "      <th>2</th>\n",
       "      <td>50</td>\n",
       "      <td>100</td>\n",
       "      <td>150</td>\n",
       "      <td>200</td>\n",
       "    </tr>\n",
       "    <tr>\n",
       "      <th>3</th>\n",
       "      <td>75</td>\n",
       "      <td>150</td>\n",
       "      <td>225</td>\n",
       "      <td>400</td>\n",
       "    </tr>\n",
       "    <tr>\n",
       "      <th>4</th>\n",
       "      <td>125</td>\n",
       "      <td>250</td>\n",
       "      <td>375</td>\n",
       "      <td>500</td>\n",
       "    </tr>\n",
       "    <tr>\n",
       "      <th>5</th>\n",
       "      <td>250</td>\n",
       "      <td>500</td>\n",
       "      <td>750</td>\n",
       "      <td>1100</td>\n",
       "    </tr>\n",
       "    <tr>\n",
       "      <th>6</th>\n",
       "      <td>300</td>\n",
       "      <td>600</td>\n",
       "      <td>900</td>\n",
       "      <td>1400</td>\n",
       "    </tr>\n",
       "    <tr>\n",
       "      <th>7</th>\n",
       "      <td>350</td>\n",
       "      <td>750</td>\n",
       "      <td>1100</td>\n",
       "      <td>1700</td>\n",
       "    </tr>\n",
       "    <tr>\n",
       "      <th>8</th>\n",
       "      <td>450</td>\n",
       "      <td>900</td>\n",
       "      <td>1400</td>\n",
       "      <td>2100</td>\n",
       "    </tr>\n",
       "    <tr>\n",
       "      <th>9</th>\n",
       "      <td>550</td>\n",
       "      <td>1100</td>\n",
       "      <td>1600</td>\n",
       "      <td>2400</td>\n",
       "    </tr>\n",
       "    <tr>\n",
       "      <th>10</th>\n",
       "      <td>600</td>\n",
       "      <td>1200</td>\n",
       "      <td>1900</td>\n",
       "      <td>2800</td>\n",
       "    </tr>\n",
       "    <tr>\n",
       "      <th>11</th>\n",
       "      <td>800</td>\n",
       "      <td>1600</td>\n",
       "      <td>2400</td>\n",
       "      <td>3600</td>\n",
       "    </tr>\n",
       "    <tr>\n",
       "      <th>12</th>\n",
       "      <td>1000</td>\n",
       "      <td>2000</td>\n",
       "      <td>3000</td>\n",
       "      <td>4500</td>\n",
       "    </tr>\n",
       "    <tr>\n",
       "      <th>13</th>\n",
       "      <td>1100</td>\n",
       "      <td>2200</td>\n",
       "      <td>3400</td>\n",
       "      <td>5100</td>\n",
       "    </tr>\n",
       "    <tr>\n",
       "      <th>14</th>\n",
       "      <td>1250</td>\n",
       "      <td>2500</td>\n",
       "      <td>3800</td>\n",
       "      <td>5700</td>\n",
       "    </tr>\n",
       "    <tr>\n",
       "      <th>15</th>\n",
       "      <td>1400</td>\n",
       "      <td>2800</td>\n",
       "      <td>4300</td>\n",
       "      <td>6400</td>\n",
       "    </tr>\n",
       "    <tr>\n",
       "      <th>16</th>\n",
       "      <td>1600</td>\n",
       "      <td>3200</td>\n",
       "      <td>4800</td>\n",
       "      <td>7200</td>\n",
       "    </tr>\n",
       "    <tr>\n",
       "      <th>17</th>\n",
       "      <td>2000</td>\n",
       "      <td>3900</td>\n",
       "      <td>5900</td>\n",
       "      <td>8800</td>\n",
       "    </tr>\n",
       "    <tr>\n",
       "      <th>18</th>\n",
       "      <td>2100</td>\n",
       "      <td>4200</td>\n",
       "      <td>6300</td>\n",
       "      <td>9500</td>\n",
       "    </tr>\n",
       "    <tr>\n",
       "      <th>19</th>\n",
       "      <td>2400</td>\n",
       "      <td>4900</td>\n",
       "      <td>7300</td>\n",
       "      <td>10900</td>\n",
       "    </tr>\n",
       "    <tr>\n",
       "      <th>20</th>\n",
       "      <td>2800</td>\n",
       "      <td>5700</td>\n",
       "      <td>8500</td>\n",
       "      <td>12700</td>\n",
       "    </tr>\n",
       "  </tbody>\n",
       "</table>\n",
       "</div>"
      ],
      "text/plain": [
       "                 Easy  Medium  Hard  Deadly\n",
       "Character Level                            \n",
       "1                  25      50    75     100\n",
       "2                  50     100   150     200\n",
       "3                  75     150   225     400\n",
       "4                 125     250   375     500\n",
       "5                 250     500   750    1100\n",
       "6                 300     600   900    1400\n",
       "7                 350     750  1100    1700\n",
       "8                 450     900  1400    2100\n",
       "9                 550    1100  1600    2400\n",
       "10                600    1200  1900    2800\n",
       "11                800    1600  2400    3600\n",
       "12               1000    2000  3000    4500\n",
       "13               1100    2200  3400    5100\n",
       "14               1250    2500  3800    5700\n",
       "15               1400    2800  4300    6400\n",
       "16               1600    3200  4800    7200\n",
       "17               2000    3900  5900    8800\n",
       "18               2100    4200  6300    9500\n",
       "19               2400    4900  7300   10900\n",
       "20               2800    5700  8500   12700"
      ]
     },
     "execution_count": 13,
     "metadata": {},
     "output_type": "execute_result"
    }
   ],
   "source": [
    "# @title **Making the XP threshold table**\n",
    "\n",
    "difficulties = [\"Easy\", \"Medium\", \"Hard\", \"Deadly\"]\n",
    "\n",
    "xp_budgets = {\n",
    "    1: {1: 25, 2: 50, 3: 75, 4: 100},\n",
    "    2: {1: 50, 2: 100, 3: 150, 4: 200},\n",
    "    3: {1: 75, 2: 150, 3: 225, 4: 400},\n",
    "    4: {1: 125, 2: 250, 3: 375, 4: 500},\n",
    "    5: {1: 250, 2: 500, 3: 750, 4: 1100},\n",
    "    6: {1: 300, 2: 600, 3: 900, 4: 1400},\n",
    "    7: {1: 350, 2: 750, 3: 1100, 4: 1700},\n",
    "    8: {1: 450, 2: 900, 3: 1400, 4: 2100},\n",
    "    9: {1: 550, 2: 1100, 3: 1600, 4: 2400},\n",
    "    10: {1: 600, 2: 1200, 3: 1900, 4: 2800},\n",
    "    11: {1: 800, 2: 1600, 3: 2400, 4: 3600},\n",
    "    12: {1: 1000, 2: 2000, 3: 3000, 4: 4500},\n",
    "    13: {1: 1100, 2: 2200, 3: 3400, 4: 5100},\n",
    "    14: {1: 1250, 2: 2500, 3: 3800, 4: 5700},\n",
    "    15: {1: 1400, 2: 2800, 3: 4300, 4: 6400},\n",
    "    16: {1: 1600, 2: 3200, 3: 4800, 4: 7200},\n",
    "    17: {1: 2000, 2: 3900, 3: 5900, 4: 8800},\n",
    "    18: {1: 2100, 2: 4200, 3: 6300, 4: 9500},\n",
    "    19: {1: 2400, 2: 4900, 3: 7300, 4: 10900},\n",
    "    20: {1: 2800, 2: 5700, 3: 8500, 4: 12700}\n",
    "}\n",
    "\n",
    "xp_table = pd.DataFrame.from_dict(xp_budgets, orient='index')\n",
    "\n",
    "xp_table.index.name = 'Character Level'\n",
    "xp_table.columns = difficulties\n",
    "\n",
    "xp_table"
   ]
  },
  {
   "cell_type": "markdown",
   "id": "311b0eed",
   "metadata": {
    "id": "wJeYTQstLotM",
    "papermill": {
     "duration": 0.012687,
     "end_time": "2024-04-18T00:08:23.602319",
     "exception": false,
     "start_time": "2024-04-18T00:08:23.589632",
     "status": "completed"
    },
    "tags": []
   },
   "source": [
    "## **4. Encounter builder**"
   ]
  },
  {
   "cell_type": "code",
   "execution_count": null,
   "id": "9fe8da36",
   "metadata": {
    "cellView": "form",
    "execution": {
     "iopub.execute_input": "2024-04-18T00:08:23.631787Z",
     "iopub.status.busy": "2024-04-18T00:08:23.631332Z",
     "iopub.status.idle": "2024-04-18T00:08:23.650014Z",
     "shell.execute_reply": "2024-04-18T00:08:23.648711Z"
    },
    "id": "yeyUxCvdLrha",
    "outputId": "205e8796-94ac-4cee-f440-d3e99a4b2c48",
    "papermill": {
     "duration": 0.03672,
     "end_time": "2024-04-18T00:08:23.652528",
     "exception": false,
     "start_time": "2024-04-18T00:08:23.615808",
     "status": "completed"
    },
    "tags": []
   },
   "outputs": [
    {
     "data": {
      "text/plain": [
       "'\\nn_players = int(input(\"How many players do you have? \"))\\nplayer_levels = []\\n\\nfor i in range(0, n_players):\\n  player_levels.append(int(input(f\"Level of player {i+1}: \")))\\n\\nn_monsters = int(input(\"How many monsters? \"))\\nmonsters_name = []\\n\\nfor i in range(0, n_monsters):\\n  monsters_name.append(input(f\"Name of monster {i+1}: \").rstrip())\\n\\nxp_easy = 0\\nxp_medium = 0\\nxp_hard = 0\\nxp_deadly = 0\\n\\n# Calculating XP threshold\\nfor i in range(0,n_players):\\n  xp_easy = xp_easy + xp_table[\\'Easy\\'][player_levels[i]]\\n  xp_medium = xp_medium + xp_table[\\'Medium\\'][player_levels[i]]\\n  xp_hard = xp_hard + xp_table[\\'Hard\\'][player_levels[i]]\\n  xp_deadly = xp_deadly + xp_table[\\'Deadly\\'][player_levels[i]]\\n\\n# Encounter against 1 monster\\nif(n_monsters == 1):\\n  if((df[\\'Name\\'] == monsters_name[0]).sum() != 0):\\n    if(df.loc[df[\\'Name\\'] == monsters_name[0], \\'XP\\'].values[0] <= xp_easy):\\n      print(f\"The encounter is easy — its XP value of {df.loc[df[\\'Name\\'] == monsters_name[0], \\'XP\\'].values[0]} XP is lower than the party\\'s Easy threshold of {xp_easy} XP.\")\\n    elif((df.loc[df[\\'Name\\'] == monsters_name[0], \\'XP\\'].values[0] >= xp_medium) and (df.loc[df[\\'Name\\'] == monsters_name[0], \\'XP\\'].values[0] < xp_hard)):\\n      print(f\"The encounter is medium — its XP value of {df.loc[df[\\'Name\\'] == monsters_name[0], \\'XP\\'].values[0]} XP is higher than the party\\'s Medium threshold of {xp_medium} XP.\")\\n    elif((df.loc[df[\\'Name\\'] == monsters_name[0], \\'XP\\'].values[0] >= xp_hard) and (df.loc[df[\\'Name\\'] == monsters_name[0], \\'XP\\'].values[0] < xp_deadly)):\\n      print(f\"The encounter is hard — its XP value of {df.loc[df[\\'Name\\'] == monsters_name[0], \\'XP\\'].values[0]} XP is higher than the party\\'s Hard threshold of {xp_hard} XP.\")\\n    elif(df.loc[df[\\'Name\\'] == monsters_name[0], \\'XP\\'].values[0] >= xp_deadly):\\n      print(f\"The encounter is deadly — its XP value of {df.loc[df[\\'Name\\'] == monsters_name[0], \\'XP\\'].values[0]} XP is higher than the party\\'s Deadly threshold of {xp_deadly} XP.\")\\n  else:\\n    print(\"This monster does not exist!\")\\n\\nmonsters_xp = 0\\n\\n# Encounter against 2 monsters\\nif(n_monsters == 2):\\n  for i in range(0, n_monsters):\\n    if((df[\\'Name\\'] == monsters_name[i]).sum() != 0):\\n      monsters_xp = monsters_xp + df.loc[df[\\'Name\\'] == monsters_name[i], \\'XP\\'].values[0]\\n    else:\\n      print(f\"The monster {i+1} does not exist!\")\\n      exit(0)\\n  monsters_xp = monsters_xp*1.5\\n  if(monsters_xp <= xp_easy):\\n    print(f\"The encounter is easy — its XP value of {monsters_xp} XP is lower than the party\\'s Easy threshold of {xp_easy} XP.\")\\n  elif((monsters_xp >= xp_medium) and (monsters_xp < xp_hard)):\\n    print(f\"The encounter is medium — its XP value of {monsters_xp} XP is higher than the party\\'s Medium threshold of {xp_medium} XP.\")\\n  elif((monsters_xp >= xp_hard) and (monsters_xp < xp_deadly)):\\n    print(f\"The encounter is hard — its XP value of {monsters_xp} XP is higher than the party\\'s Hard threshold of {xp_hard} XP.\")\\n  elif(monsters_xp >= xp_deadly):\\n    print(f\"The encounter is deadly — its XP value of {monsters_xp} XP is higher than the party\\'s Deadly threshold of {xp_deadly} XP.\")\\n\\n# Encounter against 3-6 monsters\\nif(n_monsters >=3 and n_monsters <= 6):\\n  for i in range(0, n_monsters):\\n    if((df[\\'Name\\'] == monsters_name[i]).sum() != 0):\\n      monsters_xp = monsters_xp + df.loc[df[\\'Name\\'] == monsters_name[i], \\'XP\\'].values[0]\\n    else:\\n      print(f\"The monster {i+1} does not exist!\")\\n      exit(0)\\n  monsters_xp = monsters_xp*2\\n  if(monsters_xp <= xp_easy):\\n    print(f\"The encounter is easy — its XP value of {monsters_xp} XP is lower than the party\\'s Easy threshold of {xp_easy} XP.\")\\n  elif((monsters_xp >= xp_medium) and (monsters_xp < xp_hard)):\\n    print(f\"The encounter is medium — its XP value of {monsters_xp} XP is higher than the party\\'s Medium threshold of {xp_medium} XP.\")\\n  elif((monsters_xp >= xp_hard) and (monsters_xp < xp_deadly)):\\n    print(f\"The encounter is hard — its XP value of {monsters_xp} XP is higher than the party\\'s Hard threshold of {xp_hard} XP.\")\\n  elif(monsters_xp >= xp_deadly):\\n    print(f\"The encounter is deadly — its XP value of {monsters_xp} XP is higher than the party\\'s Deadly threshold of {xp_deadly} XP.\")\\n\\n# Encounter against 7-10 monsters\\nif(n_monsters >=7 and n_monsters <= 10):\\n  for i in range(0, n_monsters):\\n    if((df[\\'Name\\'] == monsters_name[i]).sum() != 0):\\n      monsters_xp = monsters_xp + df.loc[df[\\'Name\\'] == monsters_name[i], \\'XP\\'].values[0]\\n    else:\\n      print(f\"The monster {i+1} does not exist!\")\\n      exit(0)\\n  monsters_xp = monsters_xp*2.5\\n  if(monsters_xp <= xp_easy):\\n    print(f\"The encounter is easy — its XP value of {monsters_xp} XP is lower than the party\\'s Easy threshold of {xp_easy} XP.\")\\n  elif((monsters_xp >= xp_medium) and (monsters_xp < xp_hard)):\\n    print(f\"The encounter is medium — its XP value of {monsters_xp} XP is higher than the party\\'s Medium threshold of {xp_medium} XP.\")\\n  elif((monsters_xp >= xp_hard) and (monsters_xp < xp_deadly)):\\n    print(f\"The encounter is hard — its XP value of {monsters_xp} XP is higher than the party\\'s Hard threshold of {xp_hard} XP.\")\\n  elif(monsters_xp >= xp_deadly):\\n    print(f\"The encounter is deadly — its XP value of {monsters_xp} XP is higher than the party\\'s Deadly threshold of {xp_deadly} XP.\")\\n\\n# Encounter against 11-14 monsters\\nif(n_monsters >=11 and n_monsters <= 14):\\n  for i in range(0, n_monsters):\\n    if((df[\\'Name\\'] == monsters_name[i]).sum() != 0):\\n      monsters_xp = monsters_xp + df.loc[df[\\'Name\\'] == monsters_name[i], \\'XP\\'].values[0]\\n    else:\\n      print(f\"The monster {i+1} does not exist!\")\\n      exit(0)\\n  monsters_xp = monsters_xp*3\\n  if(monsters_xp <= xp_easy):\\n    print(f\"The encounter is easy — its XP value of {monsters_xp} XP is lower than the party\\'s Easy threshold of {xp_easy} XP.\")\\n  elif((monsters_xp >= xp_medium) and (monsters_xp < xp_hard)):\\n    print(f\"The encounter is medium — its XP value of {monsters_xp} XP is higher than the party\\'s Medium threshold of {xp_medium} XP.\")\\n  elif((monsters_xp >= xp_hard) and (monsters_xp < xp_deadly)):\\n    print(f\"The encounter is hard — its XP value of {monsters_xp} XP is higher than the party\\'s Hard threshold of {xp_hard} XP.\")\\n  elif(monsters_xp >= xp_deadly):\\n    print(f\"The encounter is deadly — its XP value of {monsters_xp} XP is higher than the party\\'s Deadly threshold of {xp_deadly} XP.\")\\n\\n# Encounter against 15 or more monsters\\nif(n_monsters >=15):\\n  for i in range(0, n_monsters):\\n    if((df[\\'Name\\'] == monsters_name[i]).sum() != 0):\\n      monsters_xp = monsters_xp + df.loc[df[\\'Name\\'] == monsters_name[i], \\'XP\\'].values[0]\\n    else:\\n      print(f\"The monster {i+1} does not exist!\")\\n      exit(0)\\n  monsters_xp = monsters_xp*4\\n  if(monsters_xp <= xp_easy):\\n    print(f\"The encounter is easy — its XP value of {monsters_xp} XP is lower than the party\\'s Easy threshold of {xp_easy} XP.\")\\n  elif((monsters_xp >= xp_medium) and (monsters_xp < xp_hard)):\\n    print(f\"The encounter is medium — its XP value of {monsters_xp} XP is higher than the party\\'s Medium threshold of {xp_medium} XP.\")\\n  elif((monsters_xp >= xp_hard) and (monsters_xp < xp_deadly)):\\n    print(f\"The encounter is hard — its XP value of {monsters_xp} XP is higher than the party\\'s Hard threshold of {xp_hard} XP.\")\\n  elif(monsters_xp >= xp_deadly):\\n    print(f\"The encounter is deadly — its XP value of {monsters_xp} XP is higher than the party\\'s Deadly threshold of {xp_deadly} XP.\")\\n'"
      ]
     },
     "execution_count": 14,
     "metadata": {},
     "output_type": "execute_result"
    }
   ],
   "source": [
    "# @title **D&D encounter calculator**\n",
    "\n",
    "# Uncomment to use\n",
    "\n",
    "n_players = int(input(\"How many players do you have? \"))\n",
    "player_levels = []\n",
    "\n",
    "for i in range(0, n_players):\n",
    "  player_levels.append(int(input(f\"Level of player {i+1}: \")))\n",
    "\n",
    "n_monsters = int(input(\"How many monsters? \"))\n",
    "monsters_name = []\n",
    "\n",
    "for i in range(0, n_monsters):\n",
    "  monsters_name.append(input(f\"Name of monster {i+1}: \").rstrip())\n",
    "\n",
    "xp_easy = 0\n",
    "xp_medium = 0\n",
    "xp_hard = 0\n",
    "xp_deadly = 0\n",
    "\n",
    "# Calculating XP threshold\n",
    "for i in range(0,n_players):\n",
    "  xp_easy = xp_easy + xp_table['Easy'][player_levels[i]]\n",
    "  xp_medium = xp_medium + xp_table['Medium'][player_levels[i]]\n",
    "  xp_hard = xp_hard + xp_table['Hard'][player_levels[i]]\n",
    "  xp_deadly = xp_deadly + xp_table['Deadly'][player_levels[i]]\n",
    "\n",
    "# Encounter against 1 monster\n",
    "if(n_monsters == 1):\n",
    "  if((df['Name'] == monsters_name[0]).sum() != 0):\n",
    "    if(df.loc[df['Name'] == monsters_name[0], 'XP'].values[0] <= xp_easy):\n",
    "      print(f\"The encounter is easy — its XP value of {df.loc[df['Name'] == monsters_name[0], 'XP'].values[0]} XP is lower than the party's Easy threshold of {xp_easy} XP.\")\n",
    "    elif((df.loc[df['Name'] == monsters_name[0], 'XP'].values[0] >= xp_medium) and (df.loc[df['Name'] == monsters_name[0], 'XP'].values[0] < xp_hard)):\n",
    "      print(f\"The encounter is medium — its XP value of {df.loc[df['Name'] == monsters_name[0], 'XP'].values[0]} XP is higher than the party's Medium threshold of {xp_medium} XP.\")\n",
    "    elif((df.loc[df['Name'] == monsters_name[0], 'XP'].values[0] >= xp_hard) and (df.loc[df['Name'] == monsters_name[0], 'XP'].values[0] < xp_deadly)):\n",
    "      print(f\"The encounter is hard — its XP value of {df.loc[df['Name'] == monsters_name[0], 'XP'].values[0]} XP is higher than the party's Hard threshold of {xp_hard} XP.\")\n",
    "    elif(df.loc[df['Name'] == monsters_name[0], 'XP'].values[0] >= xp_deadly):\n",
    "      print(f\"The encounter is deadly — its XP value of {df.loc[df['Name'] == monsters_name[0], 'XP'].values[0]} XP is higher than the party's Deadly threshold of {xp_deadly} XP.\")\n",
    "  else:\n",
    "    print(\"This monster does not exist!\")\n",
    "\n",
    "monsters_xp = 0\n",
    "\n",
    "# Encounter against 2 monsters\n",
    "if(n_monsters == 2):\n",
    "  for i in range(0, n_monsters):\n",
    "    if((df['Name'] == monsters_name[i]).sum() != 0):\n",
    "      monsters_xp = monsters_xp + df.loc[df['Name'] == monsters_name[i], 'XP'].values[0]\n",
    "    else:\n",
    "      print(f\"The monster {i+1} does not exist!\")\n",
    "      exit(0)\n",
    "  monsters_xp = monsters_xp*1.5\n",
    "  if(monsters_xp <= xp_easy):\n",
    "    print(f\"The encounter is easy — its XP value of {monsters_xp} XP is lower than the party's Easy threshold of {xp_easy} XP.\")\n",
    "  elif((monsters_xp >= xp_medium) and (monsters_xp < xp_hard)):\n",
    "    print(f\"The encounter is medium — its XP value of {monsters_xp} XP is higher than the party's Medium threshold of {xp_medium} XP.\")\n",
    "  elif((monsters_xp >= xp_hard) and (monsters_xp < xp_deadly)):\n",
    "    print(f\"The encounter is hard — its XP value of {monsters_xp} XP is higher than the party's Hard threshold of {xp_hard} XP.\")\n",
    "  elif(monsters_xp >= xp_deadly):\n",
    "    print(f\"The encounter is deadly — its XP value of {monsters_xp} XP is higher than the party's Deadly threshold of {xp_deadly} XP.\")\n",
    "\n",
    "# Encounter against 3-6 monsters\n",
    "if(n_monsters >=3 and n_monsters <= 6):\n",
    "  for i in range(0, n_monsters):\n",
    "    if((df['Name'] == monsters_name[i]).sum() != 0):\n",
    "      monsters_xp = monsters_xp + df.loc[df['Name'] == monsters_name[i], 'XP'].values[0]\n",
    "    else:\n",
    "      print(f\"The monster {i+1} does not exist!\")\n",
    "      exit(0)\n",
    "  monsters_xp = monsters_xp*2\n",
    "  if(monsters_xp <= xp_easy):\n",
    "    print(f\"The encounter is easy — its XP value of {monsters_xp} XP is lower than the party's Easy threshold of {xp_easy} XP.\")\n",
    "  elif((monsters_xp >= xp_medium) and (monsters_xp < xp_hard)):\n",
    "    print(f\"The encounter is medium — its XP value of {monsters_xp} XP is higher than the party's Medium threshold of {xp_medium} XP.\")\n",
    "  elif((monsters_xp >= xp_hard) and (monsters_xp < xp_deadly)):\n",
    "    print(f\"The encounter is hard — its XP value of {monsters_xp} XP is higher than the party's Hard threshold of {xp_hard} XP.\")\n",
    "  elif(monsters_xp >= xp_deadly):\n",
    "    print(f\"The encounter is deadly — its XP value of {monsters_xp} XP is higher than the party's Deadly threshold of {xp_deadly} XP.\")\n",
    "\n",
    "# Encounter against 7-10 monsters\n",
    "if(n_monsters >=7 and n_monsters <= 10):\n",
    "  for i in range(0, n_monsters):\n",
    "    if((df['Name'] == monsters_name[i]).sum() != 0):\n",
    "      monsters_xp = monsters_xp + df.loc[df['Name'] == monsters_name[i], 'XP'].values[0]\n",
    "    else:\n",
    "      print(f\"The monster {i+1} does not exist!\")\n",
    "      exit(0)\n",
    "  monsters_xp = monsters_xp*2.5\n",
    "  if(monsters_xp <= xp_easy):\n",
    "    print(f\"The encounter is easy — its XP value of {monsters_xp} XP is lower than the party's Easy threshold of {xp_easy} XP.\")\n",
    "  elif((monsters_xp >= xp_medium) and (monsters_xp < xp_hard)):\n",
    "    print(f\"The encounter is medium — its XP value of {monsters_xp} XP is higher than the party's Medium threshold of {xp_medium} XP.\")\n",
    "  elif((monsters_xp >= xp_hard) and (monsters_xp < xp_deadly)):\n",
    "    print(f\"The encounter is hard — its XP value of {monsters_xp} XP is higher than the party's Hard threshold of {xp_hard} XP.\")\n",
    "  elif(monsters_xp >= xp_deadly):\n",
    "    print(f\"The encounter is deadly — its XP value of {monsters_xp} XP is higher than the party's Deadly threshold of {xp_deadly} XP.\")\n",
    "\n",
    "# Encounter against 11-14 monsters\n",
    "if(n_monsters >=11 and n_monsters <= 14):\n",
    "  for i in range(0, n_monsters):\n",
    "    if((df['Name'] == monsters_name[i]).sum() != 0):\n",
    "      monsters_xp = monsters_xp + df.loc[df['Name'] == monsters_name[i], 'XP'].values[0]\n",
    "    else:\n",
    "      print(f\"The monster {i+1} does not exist!\")\n",
    "      exit(0)\n",
    "  monsters_xp = monsters_xp*3\n",
    "  if(monsters_xp <= xp_easy):\n",
    "    print(f\"The encounter is easy — its XP value of {monsters_xp} XP is lower than the party's Easy threshold of {xp_easy} XP.\")\n",
    "  elif((monsters_xp >= xp_medium) and (monsters_xp < xp_hard)):\n",
    "    print(f\"The encounter is medium — its XP value of {monsters_xp} XP is higher than the party's Medium threshold of {xp_medium} XP.\")\n",
    "  elif((monsters_xp >= xp_hard) and (monsters_xp < xp_deadly)):\n",
    "    print(f\"The encounter is hard — its XP value of {monsters_xp} XP is higher than the party's Hard threshold of {xp_hard} XP.\")\n",
    "  elif(monsters_xp >= xp_deadly):\n",
    "    print(f\"The encounter is deadly — its XP value of {monsters_xp} XP is higher than the party's Deadly threshold of {xp_deadly} XP.\")\n",
    "\n",
    "# Encounter against 15 or more monsters\n",
    "if(n_monsters >=15):\n",
    "  for i in range(0, n_monsters):\n",
    "    if((df['Name'] == monsters_name[i]).sum() != 0):\n",
    "      monsters_xp = monsters_xp + df.loc[df['Name'] == monsters_name[i], 'XP'].values[0]\n",
    "    else:\n",
    "      print(f\"The monster {i+1} does not exist!\")\n",
    "      exit(0)\n",
    "  monsters_xp = monsters_xp*4\n",
    "  if(monsters_xp <= xp_easy):\n",
    "    print(f\"The encounter is easy — its XP value of {monsters_xp} XP is lower than the party's Easy threshold of {xp_easy} XP.\")\n",
    "  elif((monsters_xp >= xp_medium) and (monsters_xp < xp_hard)):\n",
    "    print(f\"The encounter is medium — its XP value of {monsters_xp} XP is higher than the party's Medium threshold of {xp_medium} XP.\")\n",
    "  elif((monsters_xp >= xp_hard) and (monsters_xp < xp_deadly)):\n",
    "    print(f\"The encounter is hard — its XP value of {monsters_xp} XP is higher than the party's Hard threshold of {xp_hard} XP.\")\n",
    "  elif(monsters_xp >= xp_deadly):\n",
    "    print(f\"The encounter is deadly — its XP value of {monsters_xp} XP is higher than the party's Deadly threshold of {xp_deadly} XP.\")\n"
   ]
  }
 ],
 "metadata": {
  "colab": {
   "provenance": []
  },
  "kaggle": {
   "accelerator": "none",
   "dataSources": [
    {
     "datasetId": 1228637,
     "sourceId": 2050812,
     "sourceType": "datasetVersion"
    }
   ],
   "dockerImageVersionId": 30684,
   "isGpuEnabled": false,
   "isInternetEnabled": true,
   "language": "python",
   "sourceType": "notebook"
  },
  "kernelspec": {
   "display_name": "Python 3",
   "name": "python3"
  },
  "language_info": {
   "codemirror_mode": {
    "name": "ipython",
    "version": 3
   },
   "file_extension": ".py",
   "mimetype": "text/x-python",
   "name": "python",
   "nbconvert_exporter": "python",
   "pygments_lexer": "ipython3",
   "version": "3.10.13"
  },
  "papermill": {
   "default_parameters": {},
   "duration": 9.706619,
   "end_time": "2024-04-18T00:08:24.289533",
   "environment_variables": {},
   "exception": null,
   "input_path": "__notebook__.ipynb",
   "output_path": "__notebook__.ipynb",
   "parameters": {},
   "start_time": "2024-04-18T00:08:14.582914",
   "version": "2.5.0"
  }
 },
 "nbformat": 4,
 "nbformat_minor": 5
}
